{
 "cells": [
  {
   "cell_type": "markdown",
   "metadata": {},
   "source": [
    "# Analysis for Continuous Improvement\n",
    "\n",
    "Author Name: Diego Barrientos\n",
    "\n",
    "9-digit PID: 730332997\n",
    "\n",
    "Continuous Improvement embraces a belief there is _always room to make things better_. It is a mindset and process we value and practice in this course. In this assignment, you are able to practice continuous improvement and contribute to the design ideas of the course.\n",
    "\n",
    "## Brainstorming Ideas\n",
    "\n",
    "Reflect on your personal experiences and observations in COMP110 and **brainstorm modifications to the course that _create value_ beyond its current design**. When brainstorming, try not to be critical of the ideas you come up with regarding scale, stakeholders impacted, or for any other reasons. In the markdown cell below, brainstorm 3 to 5 ideas you think would create value for you.\n",
    "\n",
    "Each brainstormed idea should state a. the suggested change or addition, b. what the expected value created, and c. which specific stakeholders would benefit.  If helpful, expand on the following template \"The course should (state idea here) because it will (state value created here) for (insert stakeholders here).\"\n",
    "\n",
    "Example A: \"The course should use only examples from psychology experiments because it will be more relevant for students who are psychology majors.\"\n",
    "\n",
    "Example B: \"The course should not have post-lesson questions because they are not useful for most students in the class.\""
   ]
  },
  {
   "cell_type": "markdown",
   "metadata": {},
   "source": [
    "### Part 1. Creative Ideation\n",
    "\n",
    "1. There should be more post-lesson questions because they most help students review and practice their knowledge.\n",
    "2. There should be more practice assignments in preparation for quizzes which will help students who are struggling with the material.\n",
    "3. The course should have more time between exercises to ease stress for students who have a lot of work in other classes.\n",
    "4. The course should extend the grace-period for late work to give more time to busy students who are overworked.\n",
    "5. "
   ]
  },
  {
   "cell_type": "markdown",
   "metadata": {},
   "source": [
    "## Connecting with Available Data\n",
    "\n",
    "The data you have available for this analysis is limited to the anonymized course survey you and your peers filled out a few weeks ago. The data is found in the `survey.csv` file in this exercise directory. Each row represents an individual survey response. Each column has a description which can be found on the project write-up here: <https://22s.comp110.com/exercises/ex08.html>\n",
    "\n",
    "Review the list of available data and identify which one of your ideas _does not_, or is _least likely to_, have relevant data to support the analysis of your idea to create value. In the box below, identify which of your ideas lacks data and suggest how we might be able to collect this data in the future. One aspect of _continuous improvement_ is trying to avoid \"tunnel vision\" where possible improvements are not considered because there is no data available to analyze it. Identifying new data sources can unlock improvements!"
   ]
  },
  {
   "cell_type": "markdown",
   "metadata": {},
   "source": [
    "### Part 2. Identifying Missing Data\n",
    "\n",
    "1. Idea without sufficient data to analyze: 4. The course should extend the grace-period for late work to give more time to busy students who are overworked.\n",
    "\n",
    "2. Suggestion for how to collect data to support this idea in the future: Have a question asking about the effectiveness of the one-hour grace-period."
   ]
  },
  {
   "cell_type": "markdown",
   "metadata": {},
   "source": [
    "## Choosing an Idea to Analyze\n",
    "\n",
    "Consider those of your ideas which _do_ seem likely to have relevant data to analyze. If none of your ideas do, spend a few minutes and brainstorm another idea or two with the added connection of data available on hand and add those ideas to your brainstormed ideas list.\n",
    "\n",
    "Select the one idea which you believe is _most valuable_ to analyze relative to the others and has data to support the analysis of. In the markdown cell for Part 3 below, identify the idea you are exploring and articulate why you believe it is most valuable (e.g. widest impact, biggest opportunity for improvement, simplest change for significant improvement, and so on)."
   ]
  },
  {
   "cell_type": "markdown",
   "metadata": {},
   "source": [
    "### Part 3. Choosing Your Analysis\n",
    "\n",
    "1. Idea to analyze with available data: 3. The course should have more time between exercises to ease stress for students who have a lot of work in other classes.\n",
    "\n",
    "2. This idea is more valuable than the others brainstormed because: This would be a simple change that would make a big difference.\n"
   ]
  },
  {
   "cell_type": "markdown",
   "metadata": {},
   "source": [
    "## Your Analysis\n",
    "\n",
    "Before you begin analysis, a reminder that we do not expect the data to support everyone's ideas and you can complete this exercise for full credit even if the data does not clearly support your suggestion or even completely refutes it. What we are looking for is a logical attempt to explore the data using the techniques you have learned up until now in a way that _either_ supports, refutes, or does not have a clear result and then to reflect on your findings after the analysis.\n",
    "\n",
    "Using the utility functions you created for the previous exercise, you will continue with your analysis in the following part. Before you begin, refer to the rubric on the technical expectations of this section in the exercise write-up.\n",
    "\n",
    "In this section, you are expected to interleave code and markdown cells such that for each step of your analysis you are starting with an English description of what you are planning to do next in a markdown cell, followed by a Python cell that performs that step of the analysis."
   ]
  },
  {
   "cell_type": "markdown",
   "metadata": {},
   "source": [
    "### Part 4. Analysis\n",
    "\n",
    "We begin by changing some settings in the notebook to automatically reload changes to imported files."
   ]
  },
  {
   "cell_type": "code",
   "execution_count": 55,
   "metadata": {},
   "outputs": [],
   "source": [
    "%reload_ext autoreload\n",
    "%autoreload 2"
   ]
  },
  {
   "cell_type": "markdown",
   "metadata": {},
   "source": [
    "We continue by importing the helper functions from `data_utils`."
   ]
  },
  {
   "cell_type": "code",
   "execution_count": 56,
   "metadata": {},
   "outputs": [],
   "source": [
    "from data_utils import read_csv_rows, column_values, head, columnar, select, count, average, ratio\n",
    "\n",
    "from tabulate import tabulate\n",
    "\n"
   ]
  },
  {
   "cell_type": "markdown",
   "metadata": {},
   "source": [
    "Next, ... (you take it from here and add additional code and markdown cells to read in the CSV file and process it as needed)"
   ]
  },
  {
   "cell_type": "code",
   "execution_count": 57,
   "metadata": {},
   "outputs": [],
   "source": [
    "SURVEY_DATA_CSV_FILE_PATH: str = \"../../data/survey.csv\""
   ]
  },
  {
   "cell_type": "markdown",
   "metadata": {},
   "source": [
    "`read_csv_rows` used to read the CSV file, and `columnar` used to make the data column oriented."
   ]
  },
  {
   "cell_type": "code",
   "execution_count": 58,
   "metadata": {},
   "outputs": [],
   "source": [
    "data_rows: list[dict[str, str]] = read_csv_rows(SURVEY_DATA_CSV_FILE_PATH)\n",
    "\n",
    "data_cols: dict[str, list[str]] = columnar(data_rows)"
   ]
  },
  {
   "cell_type": "markdown",
   "metadata": {},
   "source": [
    "Analysis of the relation of class time to difficulty will compare the columns of `pace` and `difficulty` to show if there is a correlation. The `selected` function is used to narrow the table to those two columns, and the `head` function is used to display some of the values for convenience."
   ]
  },
  {
   "cell_type": "code",
   "execution_count": 59,
   "metadata": {},
   "outputs": [
    {
     "data": {
      "text/html": [
       "<table>\n",
       "<thead>\n",
       "<tr><th style=\"text-align: right;\">  pace</th><th style=\"text-align: right;\">  difficulty</th></tr>\n",
       "</thead>\n",
       "<tbody>\n",
       "<tr><td style=\"text-align: right;\">     1</td><td style=\"text-align: right;\">           1</td></tr>\n",
       "<tr><td style=\"text-align: right;\">     6</td><td style=\"text-align: right;\">           6</td></tr>\n",
       "<tr><td style=\"text-align: right;\">     6</td><td style=\"text-align: right;\">           4</td></tr>\n",
       "<tr><td style=\"text-align: right;\">     4</td><td style=\"text-align: right;\">           4</td></tr>\n",
       "<tr><td style=\"text-align: right;\">     6</td><td style=\"text-align: right;\">           5</td></tr>\n",
       "<tr><td style=\"text-align: right;\">     4</td><td style=\"text-align: right;\">           3</td></tr>\n",
       "<tr><td style=\"text-align: right;\">     4</td><td style=\"text-align: right;\">           4</td></tr>\n",
       "<tr><td style=\"text-align: right;\">     4</td><td style=\"text-align: right;\">           4</td></tr>\n",
       "<tr><td style=\"text-align: right;\">     5</td><td style=\"text-align: right;\">           4</td></tr>\n",
       "<tr><td style=\"text-align: right;\">     7</td><td style=\"text-align: right;\">           4</td></tr>\n",
       "</tbody>\n",
       "</table>"
      ],
      "text/plain": [
       "'<table>\\n<thead>\\n<tr><th style=\"text-align: right;\">  pace</th><th style=\"text-align: right;\">  difficulty</th></tr>\\n</thead>\\n<tbody>\\n<tr><td style=\"text-align: right;\">     1</td><td style=\"text-align: right;\">           1</td></tr>\\n<tr><td style=\"text-align: right;\">     6</td><td style=\"text-align: right;\">           6</td></tr>\\n<tr><td style=\"text-align: right;\">     6</td><td style=\"text-align: right;\">           4</td></tr>\\n<tr><td style=\"text-align: right;\">     4</td><td style=\"text-align: right;\">           4</td></tr>\\n<tr><td style=\"text-align: right;\">     6</td><td style=\"text-align: right;\">           5</td></tr>\\n<tr><td style=\"text-align: right;\">     4</td><td style=\"text-align: right;\">           3</td></tr>\\n<tr><td style=\"text-align: right;\">     4</td><td style=\"text-align: right;\">           4</td></tr>\\n<tr><td style=\"text-align: right;\">     4</td><td style=\"text-align: right;\">           4</td></tr>\\n<tr><td style=\"text-align: right;\">     5</td><td style=\"text-align: right;\">           4</td></tr>\\n<tr><td style=\"text-align: right;\">     7</td><td style=\"text-align: right;\">           4</td></tr>\\n</tbody>\\n</table>'"
      ]
     },
     "execution_count": 59,
     "metadata": {},
     "output_type": "execute_result"
    }
   ],
   "source": [
    "selected_data: dict[str, list[str]] = select(data_cols, [\"pace\", \"difficulty\"])\n",
    "\n",
    "selected_data_head: dict[str, list[str]] = head(selected_data, 10)\n",
    "\n",
    "tabulate(selected_data_head, selected_data_head.keys(), \"html\")\n"
   ]
  },
  {
   "cell_type": "code",
   "execution_count": 60,
   "metadata": {},
   "outputs": [
    {
     "name": "stdout",
     "output_type": "stream",
     "text": [
      "pace_counts: {'1': 2, '6': 137, '4': 173, '5': 203, '7': 69, '3': 27, '2': 9}\n",
      "difficulty_counts: {'1': 23, '6': 88, '4': 160, '5': 155, '3': 84, '7': 56, '2': 54}\n"
     ]
    }
   ],
   "source": [
    "pace_counts: dict[str, int] = count(selected_data[\"pace\"])\n",
    "print(f\"pace_counts: {pace_counts}\")\n",
    "\n",
    "difficulty_counts: dict[str, int] = count(selected_data[\"difficulty\"])\n",
    "print(f\"difficulty_counts: {difficulty_counts}\")"
   ]
  },
  {
   "cell_type": "markdown",
   "metadata": {},
   "source": [
    "The `average` function used to calculate the average answers of pace and difficulty."
   ]
  },
  {
   "cell_type": "code",
   "execution_count": 61,
   "metadata": {},
   "outputs": [
    {
     "name": "stdout",
     "output_type": "stream",
     "text": [
      "pace_average: 5.02\n",
      "difficulty_average: 4.38\n"
     ]
    }
   ],
   "source": [
    "pace_avg: float = average(selected_data[\"pace\"])\n",
    "print(f\"pace_average: {pace_avg}\")\n",
    "\n",
    "difficulty_avg: float = average(selected_data[\"difficulty\"])\n",
    "print(f\"difficulty_average: {difficulty_avg}\")"
   ]
  },
  {
   "cell_type": "markdown",
   "metadata": {},
   "source": [
    "The `ratio` function is used to calculate the ratio between each corresponding value of the columns `pace` and `difficulty`. The `average` function is then used to find the average of this ratio. This is useful as it shows the correlation between how fast a student perceives the pace of the course to be versus how difficult. "
   ]
  },
  {
   "cell_type": "code",
   "execution_count": 62,
   "metadata": {},
   "outputs": [
    {
     "name": "stdout",
     "output_type": "stream",
     "text": [
      "[1.0, 1.0, 1.5, 1.0, 1.2, 1.33, 1.0, 1.0, 1.25, 1.75, 1.67, 1.5, 1.0, 1.33, 1.0, 0.71, 0.86, 1.0, 0.71, 2.0, 1.5, 1.0, 1.0, 0.83, 1.0, 0.8, 1.25, 1.5, 1.33, 1.0, 1.0, 1.0, 1.0, 1.25, 1.25, 1.25, 1.0, 1.0, 1.33, 1.0, 1.33, 0.8, 0.8, 0.71, 1.2, 1.33, 1.0, 1.25, 1.0, 1.33, 1.0, 1.5, 1.0, 7.0, 4.0, 1.4, 0.83, 1.0, 1.0, 1.4, 2.0, 1.5, 1.0, 1.0, 2.5, 0.8, 1.33, 0.83, 1.25, 0.83, 1.4, 0.86, 1.0, 1.0, 1.33, 2.5, 1.0, 2.33, 0.83, 1.0, 1.0, 0.8, 1.0, 1.2, 1.67, 1.25, 1.2, 1.5, 1.0, 1.5, 1.0, 1.0, 0.57, 1.0, 1.4, 1.5, 1.67, 1.0, 1.2, 1.0, 1.25, 1.25, 0.71, 1.25, 1.0, 1.0, 1.2, 1.67, 1.0, 2.33, 2.5, 1.0, 1.25, 0.86, 1.33, 1.25, 1.5, 1.0, 1.33, 1.0, 1.5, 0.83, 1.0, 1.25, 1.33, 1.0, 0.71, 1.25, 1.0, 1.4, 1.25, 1.2, 2.5, 1.0, 1.67, 2.0, 1.0, 0.86, 1.5, 1.25, 1.0, 1.5, 2.5, 1.0, 1.0, 0.86, 0.8, 1.0, 1.2, 1.17, 0.67, 1.0, 1.0, 1.0, 1.17, 1.0, 1.2, 1.0, 1.0, 2.5, 1.17, 1.2, 1.4, 1.0, 1.25, 0.83, 1.0, 1.0, 2.5, 7.0, 1.25, 0.67, 1.17, 0.8, 1.25, 1.5, 0.83, 1.67, 1.0, 1.25, 1.25, 2.0, 2.0, 1.25, 0.67, 0.8, 2.0, 0.8, 1.0, 1.25, 1.0, 1.2, 1.5, 2.0, 2.0, 1.25, 3.0, 2.0, 1.0, 1.0, 1.2, 1.33, 1.0, 1.0, 1.0, 1.0, 0.29, 3.0, 1.33, 1.2, 1.67, 0.5, 2.5, 2.0, 1.25, 1.0, 0.67, 1.33, 0.83, 1.0, 1.0, 1.25, 1.0, 1.33, 1.33, 0.75, 1.2, 1.0, 0.75, 1.0, 1.5, 1.0, 0.67, 1.25, 1.0, 1.17, 1.0, 1.5, 1.4, 1.0, 1.0, 1.67, 1.0, 1.25, 1.0, 1.25, 1.33, 1.17, 1.2, 1.4, 2.5, 1.0, 1.0, 0.8, 0.71, 1.25, 0.71, 1.0, 1.5, 1.0, 0.8, 1.25, 1.0, 2.0, 1.2, 4.0, 1.0, 1.4, 2.0, 0.86, 1.0, 0.86, 1.25, 1.0, 1.25, 1.0, 1.5, 2.0, 1.2, 0.8, 1.5, 1.0, 1.0, 1.0, 1.0, 1.0, 0.83, 0.8, 1.2, 1.25, 1.25, 1.25, 1.67, 0.8, 1.2, 1.0, 1.0, 1.33, 1.0, 1.5, 1.5, 1.0, 1.25, 1.0, 1.25, 2.5, 1.0, 2.0, 2.0, 1.2, 2.0, 1.33, 1.0, 1.25, 1.0, 2.0, 2.5, 0.57, 1.2, 1.17, 1.0, 1.0, 1.67, 1.33, 1.0, 1.0, 1.0, 1.0, 0.86, 5.0, 2.0, 1.0, 1.0, 1.4, 1.0, 1.33, 1.2, 0.83, 0.8, 1.0, 1.0, 1.4, 1.33, 4.0, 1.0, 1.5, 1.0, 1.5, 1.0, 1.0, 1.25, 1.0, 3.0, 1.4, 1.0, 1.25, 3.0, 1.33, 1.2, 1.0, 1.0, 1.0, 1.0, 1.25, 1.17, 1.0, 1.25, 1.0, 1.67, 4.0, 1.33, 1.0, 0.8, 1.2, 1.0, 2.0, 1.0, 1.33, 2.0, 1.0, 1.0, 1.0, 1.0, 1.17, 1.17, 1.0, 1.0, 0.83, 1.25, 1.0, 3.0, 1.0, 1.33, 1.25, 1.0, 1.17, 1.33, 1.5, 0.86, 1.0, 1.75, 1.5, 1.0, 1.0, 5.0, 2.5, 1.0, 1.0, 1.2, 1.0, 1.33, 1.0, 1.0, 1.0, 2.5, 0.8, 1.0, 2.0, 1.0, 1.0, 1.25, 2.0, 1.33, 1.0, 0.86, 1.33, 1.33, 1.4, 1.67, 1.0, 1.25, 0.86, 0.8, 1.2, 1.0, 1.0, 1.75, 1.0, 1.0, 1.33, 1.0, 1.25, 1.17, 1.5, 1.0, 0.83, 1.2, 0.8, 2.0, 2.0, 1.2, 1.33, 1.0, 1.0, 1.2, 1.67, 1.0, 0.8, 1.0, 0.8, 2.0, 1.0, 1.4, 1.0, 1.25, 1.0, 1.2, 1.17, 1.0, 1.0, 4.0, 1.0, 1.17, 1.33, 1.0, 1.2, 1.33, 3.0, 2.0, 1.0, 1.67, 1.0, 1.33, 1.67, 1.5, 1.0, 1.25, 1.25, 2.0, 1.0, 1.0, 0.8, 3.0, 1.5, 1.0, 2.0, 1.0, 1.0, 1.33, 1.0, 1.67, 0.86, 0.8, 0.8, 1.0, 1.0, 1.25, 1.2, 2.0, 1.0, 1.0, 1.5, 1.0, 1.0, 0.83, 1.0, 1.0, 1.25, 0.86, 1.0, 1.33, 0.8, 1.5, 1.0, 1.67, 1.2, 0.8, 1.0, 1.33, 0.8, 1.0, 1.5, 2.0, 1.25, 1.0, 1.0, 1.0, 1.25, 4.0, 1.0, 1.0, 1.25, 1.25, 1.0, 1.0, 2.0, 4.0, 0.86, 1.75, 1.17, 1.0, 1.2, 2.5, 1.0, 1.0, 0.67, 1.0, 0.57, 1.0, 1.33, 1.2, 1.0, 0.8, 1.25, 3.0, 1.25, 1.0, 1.0, 0.83, 1.25, 1.0, 1.0, 1.25, 2.5, 1.25, 1.0, 1.0, 4.0, 1.0, 1.2, 1.25, 1.0, 1.0, 1.0, 1.17, 1.5, 1.67, 1.33, 1.2, 1.17, 2.0, 1.25, 1.5, 1.0, 1.33, 1.25, 1.67, 1.0, 1.2, 0.83, 0.86, 1.33, 1.25, 1.67, 1.0, 1.33, 1.25, 1.0, 1.2, 1.0, 1.0, 1.25, 2.0, 1.25, 1.2, 0.83, 1.0, 0.8, 2.0, 1.0]\n",
      "1.05\n"
     ]
    }
   ],
   "source": [
    "pace_to_difficulty_ratios: list[float] = ratio(selected_data[\"pace\"], selected_data[\"difficulty\"])\n",
    "print(pace_to_difficulty_ratios)\n",
    "print(average(pace_to_difficulty_ratios))"
   ]
  },
  {
   "cell_type": "markdown",
   "metadata": {},
   "source": [
    "## Conclusion\n",
    "\n",
    "In the following markdown cell, write a reflective conclusion given the analysis you performed and identify recommendations.\n",
    "\n",
    "If your analysis of the data supports your idea, state your recommendation for the change and summarize the data analysys results you found which support it. Additionally, describe any extensions or refinements to this idea which might be explored further. Finally, discuss the potential costs, trade-offs, or stakeholders who may be negatively impacted by this proposed change.\n",
    "\n",
    "If your analysis of the data is inconclusive, summarize why your data analysis results were inconclusive in the support of your idea. Additionally, describe what experimental idea implementation or additional data collection might help build more confidence in assessing your idea. Finally, discuss the potential costs, trade-offs, or stakeholders who may be negatively impacted by experimenting with your idea.\n",
    "\n",
    "Finally, if your analysis of the data does not support it, summarize your data analysis results and why it refutes your idea. Discuss the potential costs, trade-offs, or stakeholders who may be negatively impacted by this proposed change. If you disagree with the validity of the findings, describe why your idea still makes sense to implement and what alternative data would better support it. If you agree with the validity of the data analysis, describe what alternate ideas or extensions you would explore instead. "
   ]
  },
  {
   "cell_type": "markdown",
   "metadata": {},
   "source": [
    "### Part 5. Conclusion\n",
    "\n",
    "The analysis somewhat supports my idea. The average rating of pace was found to be about 5.02, indicating that the average student found the course to be decently fast-paced, while the average rating of difficulty was found to 4.38. Using my `ratio` function, I compared the ratings of pace to the difficulty and found that on average there was a ratio between pace and difficulty slightly higher than 1:1, indicating that the more fast-paced a student perceived the course to move, the more difficulty they faced.\n",
    "\n",
    "However the issue with this analysis is that correlation does not necessarily imply causation, so while there is a link between the perceived speed of the class and its difficulty, this does not necessarily prove that a slower-paced class would be on average less difficult. \n",
    "\n",
    "Still, there is basis for testing the change. I would suggest maybe removing one or two exercises to slow the pace of the class slightly, and then to compare grades after the change to before to tell if there is an improvement. There are disadvantages in slowing the class down by removing assignments which could counteract the benefits, as this may make it harder to learn the full material of the curriculum, or on the other hand it may mean removing some material to compensate for reduced workload, which has its own cost, as students would not learn as much. This would be detrimental to the students who do not find the course to be very fast-paced, as they would have less in-class opportunities to practice what they learned."
   ]
  }
 ],
 "metadata": {
  "interpreter": {
   "hash": "aee8b7b246df8f9039afb4144a1f6fd8d2ca17a180786b69acc140d282b71a49"
  },
  "kernelspec": {
   "display_name": "Python 3.10.2 64-bit",
   "language": "python",
   "name": "python3"
  },
  "language_info": {
   "codemirror_mode": {
    "name": "ipython",
    "version": 3
   },
   "file_extension": ".py",
   "mimetype": "text/x-python",
   "name": "python",
   "nbconvert_exporter": "python",
   "pygments_lexer": "ipython3",
   "version": "3.10.1"
  },
  "orig_nbformat": 4
 },
 "nbformat": 4,
 "nbformat_minor": 2
}
