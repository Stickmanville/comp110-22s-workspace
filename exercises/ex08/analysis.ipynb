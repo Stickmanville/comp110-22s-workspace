{
 "cells": [
  {
   "cell_type": "markdown",
   "metadata": {},
   "source": [
    "# Analysis for Continuous Improvement\n",
    "\n",
    "Author Name: Diego Barrientos\n",
    "\n",
    "9-digit PID: 730332997\n",
    "\n",
    "Continuous Improvement embraces a belief there is _always room to make things better_. It is a mindset and process we value and practice in this course. In this assignment, you are able to practice continuous improvement and contribute to the design ideas of the course.\n",
    "\n",
    "## Brainstorming Ideas\n",
    "\n",
    "Reflect on your personal experiences and observations in COMP110 and **brainstorm modifications to the course that _create value_ beyond its current design**. When brainstorming, try not to be critical of the ideas you come up with regarding scale, stakeholders impacted, or for any other reasons. In the markdown cell below, brainstorm 3 to 5 ideas you think would create value for you.\n",
    "\n",
    "Each brainstormed idea should state a. the suggested change or addition, b. what the expected value created, and c. which specific stakeholders would benefit.  If helpful, expand on the following template \"The course should (state idea here) because it will (state value created here) for (insert stakeholders here).\"\n",
    "\n",
    "Example A: \"The course should use only examples from psychology experiments because it will be more relevant for students who are psychology majors.\"\n",
    "\n",
    "Example B: \"The course should not have post-lesson questions because they are not useful for most students in the class.\""
   ]
  },
  {
   "cell_type": "markdown",
   "metadata": {},
   "source": [
    "### Part 1. Creative Ideation\n",
    "\n",
    "1. \n",
    "2. \n",
    "3. \n",
    "4. \n",
    "5. "
   ]
  },
  {
   "cell_type": "markdown",
   "metadata": {},
   "source": [
    "## Connecting with Available Data\n",
    "\n",
    "The data you have available for this analysis is limited to the anonymized course survey you and your peers filled out a few weeks ago. The data is found in the `survey.csv` file in this exercise directory. Each row represents an individual survey response. Each column has a description which can be found on the project write-up here: <https://22s.comp110.com/exercises/ex08.html>\n",
    "\n",
    "Review the list of available data and identify which one of your ideas _does not_, or is _least likely to_, have relevant data to support the analysis of your idea to create value. In the box below, identify which of your ideas lacks data and suggest how we might be able to collect this data in the future. One aspect of _continuous improvement_ is trying to avoid \"tunnel vision\" where possible improvements are not considered because there is no data available to analyze it. Identifying new data sources can unlock improvements!"
   ]
  },
  {
   "cell_type": "markdown",
   "metadata": {},
   "source": [
    "### Part 2. Identifying Missing Data\n",
    "\n",
    "1. Idea without sufficient data to analyze:\n",
    "\n",
    "2. Suggestion for how to collect data to support this idea in the future: "
   ]
  },
  {
   "cell_type": "markdown",
   "metadata": {},
   "source": [
    "## Choosing an Idea to Analyze\n",
    "\n",
    "Consider those of your ideas which _do_ seem likely to have relevant data to analyze. If none of your ideas do, spend a few minutes and brainstorm another idea or two with the added connection of data available on hand and add those ideas to your brainstormed ideas list.\n",
    "\n",
    "Select the one idea which you believe is _most valuable_ to analyze relative to the others and has data to support the analysis of. In the markdown cell for Part 3 below, identify the idea you are exploring and articulate why you believe it is most valuable (e.g. widest impact, biggest opportunity for improvement, simplest change for significant improvement, and so on)."
   ]
  },
  {
   "cell_type": "markdown",
   "metadata": {},
   "source": [
    "### Part 3. Choosing Your Analysis\n",
    "\n",
    "1. Idea to analyze with available data:\n",
    "\n",
    "2. This idea is more valuable than the others brainstormed because: \n"
   ]
  },
  {
   "cell_type": "markdown",
   "metadata": {},
   "source": [
    "## Your Analysis\n",
    "\n",
    "Before you begin analysis, a reminder that we do not expect the data to support everyone's ideas and you can complete this exercise for full credit even if the data does not clearly support your suggestion or even completely refutes it. What we are looking for is a logical attempt to explore the data using the techniques you have learned up until now in a way that _either_ supports, refutes, or does not have a clear result and then to reflect on your findings after the analysis.\n",
    "\n",
    "Using the utility functions you created for the previous exercise, you will continue with your analysis in the following part. Before you begin, refer to the rubric on the technical expectations of this section in the exercise write-up.\n",
    "\n",
    "In this section, you are expected to interleave code and markdown cells such that for each step of your analysis you are starting with an English description of what you are planning to do next in a markdown cell, followed by a Python cell that performs that step of the analysis."
   ]
  },
  {
   "cell_type": "markdown",
   "metadata": {},
   "source": [
    "### Part 4. Analysis\n",
    "\n",
    "We begin by changing some settings in the notebook to automatically reload changes to imported files."
   ]
  },
  {
   "cell_type": "code",
   "execution_count": 1,
   "metadata": {},
   "outputs": [],
   "source": [
    "%reload_ext autoreload\n",
    "%autoreload 2"
   ]
  },
  {
   "cell_type": "markdown",
   "metadata": {},
   "source": [
    "We continue by importing the helper functions from `data_utils`."
   ]
  },
  {
   "cell_type": "code",
   "execution_count": 2,
   "metadata": {},
   "outputs": [],
   "source": [
    "from csv import DictReader\n",
    "\n",
    "\n",
    "def read_csv_rows(filename: str) -> list[dict[str, str]]:\n",
    "    \"\"\"Reads the rows of a csv into a 'table'.\"\"\"\n",
    "    result: list[dict[str, str]] = []\n",
    "    \n",
    "    # Open a handle to the data file\n",
    "    file_handle = open(filename, \"r\", encoding=\"utf8\")\n",
    "\n",
    "# Prepare to read the data file as a CSV rather than just strings\n",
    "    csv_reader = DictReader(file_handle)\n",
    "\n",
    "# Read each row of the CSV line-by-line\n",
    "    for row in csv_reader:\n",
    "        result.append(row) \n",
    "\n",
    "    # Close the file when we're done, to free its resources.\n",
    "    file_handle.close()\n",
    "\n",
    "    return result\n",
    "\n",
    "\n",
    "def column_values(table: list[dict[str, str]], column: str) -> list[str]:\n",
    "    \"\"\"Produces a list[str] of all values in a single column.\"\"\"\n",
    "    result: list[str] = []\n",
    "    for row in table:\n",
    "        item: str = row[column]\n",
    "        result.append(item)\n",
    "    return result\n",
    "\n",
    "\n",
    "def columnar(row_table: list[dict[str, str]]) -> dict[str, list[str]]:\n",
    "    \"\"\"Transform a row-oriented table into a column-oriented table.\"\"\"\n",
    "    result: dict[str, list[str]] = {}\n",
    "    \n",
    "    first_row: dict[str, str] = row_table[0]\n",
    "    for column in first_row:\n",
    "        result[column] = column_values(row_table, column)\n",
    "\n",
    "    return result\n",
    "\n",
    "\n",
    "def head(column_table: dict[str, list[str]], N: int) -> dict[str, list[str]]:\n",
    "    \"\"\"Produces a new column-based table with only the first N rows of data for each column.\"\"\"\n",
    "    result: dict[str, list[str]] = {}\n",
    "    for column in column_table:\n",
    "        chopped_list: list[str] = []\n",
    "        row_counter = 0\n",
    "        for row_val in column_table[column]:\n",
    "            if row_counter < N:\n",
    "                chopped_list.append(row_val)\n",
    "                row_counter += 1\n",
    "        result[column] = chopped_list\n",
    "    return result\n",
    "\n",
    "\n",
    "def select(column_table: dict[str, list[str]], wanted_columns: list[str]) -> dict[str, list[str]]:\n",
    "    \"\"\"Produces a new column-based table with only a specific subset of the original columns.\"\"\"\n",
    "    result: dict[str, list[str]] = {}\n",
    "    for column_name in column_table:\n",
    "        if column_name in wanted_columns:\n",
    "            result[column_name] = column_table[column_name]\n",
    "    return result\n",
    "\n",
    "\n",
    "def concat(table_1: dict[str, list[str]], table_2: dict[str, list[str]]) -> dict[str, list[str]]:\n",
    "    \"\"\"Produces a new column-based table with two column-based tables combined.\"\"\"\n",
    "    result: dict[str, list[str]] = {}\n",
    "    for column_name in table_1:\n",
    "        result[column_name] = table_1[column_name]\n",
    "    for cn_2 in table_2:\n",
    "        if cn_2 in result:\n",
    "            result[cn_2].extend(table_2[cn_2])\n",
    "        else:\n",
    "            result[cn_2] = table_2[cn_2]\n",
    "    return table_1\n",
    "\n",
    "\n",
    "def count(input: list[str]) -> dict[str, int]:\n",
    "    \"\"\"Given a list, produces a dictionary where each key is a unique value in the given list and each value associated is the number of times that value appeared in the input list.\"\"\"\n",
    "    result: dict[str, int] = {}\n",
    "    for item in input:\n",
    "        if item in result:\n",
    "            result[item] += 1\n",
    "        else:\n",
    "            result[item] = 1\n",
    "    return result\n"
   ]
  },
  {
   "cell_type": "markdown",
   "metadata": {},
   "source": [
    "Next, ... (you take it from here and add additional code and markdown cells to read in the CSV file and process it as needed)"
   ]
  },
  {
   "cell_type": "code",
   "execution_count": null,
   "metadata": {},
   "outputs": [],
   "source": [
    "SURVEY_DATA_CSV_FILE_PATH: str = \"../../data/survey.csv\""
   ]
  },
  {
   "cell_type": "markdown",
   "metadata": {},
   "source": [
    "## Conclusion\n",
    "\n",
    "In the following markdown cell, write a reflective conclusion given the analysis you performed and identify recommendations.\n",
    "\n",
    "If your analysis of the data supports your idea, state your recommendation for the change and summarize the data analysys results you found which support it. Additionally, describe any extensions or refinements to this idea which might be explored further. Finally, discuss the potential costs, trade-offs, or stakeholders who may be negatively impacted by this proposed change.\n",
    "\n",
    "If your analysis of the data is inconclusive, summarize why your data analysis results were inconclusive in the support of your idea. Additionally, describe what experimental idea implementation or additional data collection might help build more confidence in assessing your idea. Finally, discuss the potential costs, trade-offs, or stakeholders who may be negatively impacted by experimenting with your idea.\n",
    "\n",
    "Finally, if your analysis of the data does not support it, summarize your data analysis results and why it refutes your idea. Discuss the potential costs, trade-offs, or stakeholders who may be negatively impacted by this proposed change. If you disagree with the validity of the findings, describe why your idea still makes sense to implement and what alternative data would better support it. If you agree with the validity of the data analysis, describe what alternate ideas or extensions you would explore instead. "
   ]
  },
  {
   "cell_type": "markdown",
   "metadata": {},
   "source": [
    "### Part 5. Conclusion\n",
    "\n"
   ]
  }
 ],
 "metadata": {
  "interpreter": {
   "hash": "aee8b7b246df8f9039afb4144a1f6fd8d2ca17a180786b69acc140d282b71a49"
  },
  "kernelspec": {
   "display_name": "Python 3.10.2 64-bit",
   "language": "python",
   "name": "python3"
  },
  "language_info": {
   "codemirror_mode": {
    "name": "ipython",
    "version": 3
   },
   "file_extension": ".py",
   "mimetype": "text/x-python",
   "name": "python",
   "nbconvert_exporter": "python",
   "pygments_lexer": "ipython3",
   "version": "3.10.1"
  },
  "orig_nbformat": 4
 },
 "nbformat": 4,
 "nbformat_minor": 2
}
